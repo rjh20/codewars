{
 "cells": [
  {
   "cell_type": "markdown",
   "id": "942c0a05-00c0-4d99-a531-701b6d8a0830",
   "metadata": {},
   "source": [
    "An anagram is the result of rearranging the letters of a word to produce a new word (see wikipedia).\n",
    "\n",
    "Note: anagrams are case insensitive\n",
    "\n",
    "Complete the function to return true if the two arguments given are anagrams of each other; return false otherwise.\n",
    "\n",
    "Examples\n",
    "\"foefet\" is an anagram of \"toffee\"\n",
    "\n",
    "\"Buckethead\" is an anagram of \"DeathCubeK\""
   ]
  },
  {
   "cell_type": "markdown",
   "id": "27747281-63d6-4a4a-921f-ea6aacaf73c7",
   "metadata": {},
   "source": [
    "#### My Solution:"
   ]
  },
  {
   "cell_type": "code",
   "execution_count": 19,
   "id": "79056873-7d3e-4007-9392-16a4cd47f61b",
   "metadata": {},
   "outputs": [],
   "source": [
    "def is_anagram(test, original):\n",
    "    test_split = sorted(list(test.lower()))\n",
    "    original_split = sorted(list(original.lower()))\n",
    "    return test_split == original_split"
   ]
  },
  {
   "cell_type": "markdown",
   "id": "c1297bb6-b664-4e1f-a782-ea24d0122549",
   "metadata": {},
   "source": [
    "#### Example Solutions:"
   ]
  },
  {
   "cell_type": "code",
   "execution_count": null,
   "id": "b67658dc-0f53-4bfe-a623-cbf437299949",
   "metadata": {},
   "outputs": [],
   "source": [
    "def is_anagram(test, original):\n",
    "    return sorted(original.lower()) == sorted(test.lower()) "
   ]
  },
  {
   "cell_type": "code",
   "execution_count": null,
   "id": "43e7ff56-8427-4b29-9046-a70274f52ca5",
   "metadata": {},
   "outputs": [],
   "source": [
    "from collections import Counter\n",
    "# write the function is_anagram\n",
    "def is_anagram(test, original):\n",
    "    return Counter(test.lower()) == Counter(original.lower())"
   ]
  }
 ],
 "metadata": {
  "kernelspec": {
   "display_name": "Python 3 (ipykernel)",
   "language": "python",
   "name": "python3"
  },
  "language_info": {
   "codemirror_mode": {
    "name": "ipython",
    "version": 3
   },
   "file_extension": ".py",
   "mimetype": "text/x-python",
   "name": "python",
   "nbconvert_exporter": "python",
   "pygments_lexer": "ipython3",
   "version": "3.12.4"
  }
 },
 "nbformat": 4,
 "nbformat_minor": 5
}
