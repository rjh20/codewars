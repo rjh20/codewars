{
 "cells": [
  {
   "cell_type": "markdown",
   "id": "734c7eeb-2e8e-4873-a73d-5b1a13ea3aa7",
   "metadata": {},
   "source": [
    "Build a function that returns an array of integers from n to 1 where n>0.\n",
    "\n",
    "Example : n=5 --> [5,4,3,2,1]"
   ]
  },
  {
   "cell_type": "markdown",
   "id": "9776cb75-53a5-43be-a1e3-cc048efa1065",
   "metadata": {},
   "source": [
    "#### My Solution:"
   ]
  },
  {
   "cell_type": "code",
   "execution_count": null,
   "id": "1649cb3e-5a8d-4456-a471-93d254d2cc4d",
   "metadata": {},
   "outputs": [],
   "source": [
    "def reverse_seq(n):\n",
    "    list = []\n",
    "    #first create a list of the numbers in the correct numerical order:\n",
    "    for num in range(1,n+1):\n",
    "        list.append(num)\n",
    "    #return the list in the reverse\n",
    "    return list[::-1] #(this is a cheat way to reverse a list)"
   ]
  },
  {
   "cell_type": "markdown",
   "id": "e0be2e36-a01d-43e5-8a47-dcbbc4b6905c",
   "metadata": {},
   "source": [
    "#### Solution Examples:"
   ]
  },
  {
   "cell_type": "code",
   "execution_count": null,
   "id": "05017194-5d3b-4cf4-ba17-a4c97e36cb4f",
   "metadata": {},
   "outputs": [],
   "source": [
    "def reverseseq(n):\n",
    "    return list(range(n, 0, -1))"
   ]
  },
  {
   "cell_type": "code",
   "execution_count": null,
   "id": "10b73f08-9d6b-46c9-b9a4-8fb45e3874ad",
   "metadata": {},
   "outputs": [],
   "source": [
    "def reverseseq(n):\n",
    "    return [x for x in range(n,0,-1)]"
   ]
  }
 ],
 "metadata": {
  "kernelspec": {
   "display_name": "Python 3 (ipykernel)",
   "language": "python",
   "name": "python3"
  },
  "language_info": {
   "codemirror_mode": {
    "name": "ipython",
    "version": 3
   },
   "file_extension": ".py",
   "mimetype": "text/x-python",
   "name": "python",
   "nbconvert_exporter": "python",
   "pygments_lexer": "ipython3",
   "version": "3.12.4"
  }
 },
 "nbformat": 4,
 "nbformat_minor": 5
}
