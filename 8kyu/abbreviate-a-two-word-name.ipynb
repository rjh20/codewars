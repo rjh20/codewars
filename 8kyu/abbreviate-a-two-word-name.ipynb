{
 "cells": [
  {
   "cell_type": "markdown",
   "id": "2bee872b-813f-4039-9c08-d517c7baf2b6",
   "metadata": {},
   "source": [
    "Write a function to convert a name into initials. This kata strictly takes two words with one space in between them.\n",
    "\n",
    "The output should be two capital letters with a dot separating them.\n",
    "\n",
    "It should look like this:\n",
    "\n",
    "Sam Harris => S.H\n",
    "\n",
    "patrick feeney => P.F"
   ]
  },
  {
   "cell_type": "markdown",
   "id": "c178dea5-7112-4c16-86d4-d84e65c52cfc",
   "metadata": {},
   "source": [
    "#### My Solution:"
   ]
  },
  {
   "cell_type": "code",
   "execution_count": 30,
   "id": "5fb5afb2-08f9-40f2-8562-44cb5a698c75",
   "metadata": {},
   "outputs": [],
   "source": [
    "def abbrev_name(name):\n",
    "    names = name.split(\" \")\n",
    "    return names[0][0].upper() + \".\" + names[1][0].upper()"
   ]
  },
  {
   "cell_type": "markdown",
   "id": "2770023f-bb57-4330-acea-70f44c200b0f",
   "metadata": {},
   "source": [
    "#### Other Example Solutions:"
   ]
  },
  {
   "cell_type": "code",
   "execution_count": null,
   "id": "71b55d15-cd7f-48d2-b851-3c6f88deb03c",
   "metadata": {},
   "outputs": [],
   "source": [
    "def abbrevName(name):\n",
    "    return '.'.join(w[0] for w in name.split()).upper()"
   ]
  },
  {
   "cell_type": "code",
   "execution_count": null,
   "id": "cafda494-82ea-489e-bd9f-ac6ddf88d531",
   "metadata": {},
   "outputs": [],
   "source": [
    "def abbrevName(name):\n",
    "    first, last = name.upper().split(' ')\n",
    "    return first[0] + '.' + last[0]"
   ]
  },
  {
   "cell_type": "code",
   "execution_count": null,
   "id": "70b07042-031e-4ee1-b371-4a16b7df2e61",
   "metadata": {},
   "outputs": [],
   "source": [
    "def abbrevName(name):\n",
    "    names = name.split()\n",
    "    return f\"{names[0][0]}.{names[1][0]}\".upper()"
   ]
  }
 ],
 "metadata": {
  "kernelspec": {
   "display_name": "Python 3 (ipykernel)",
   "language": "python",
   "name": "python3"
  },
  "language_info": {
   "codemirror_mode": {
    "name": "ipython",
    "version": 3
   },
   "file_extension": ".py",
   "mimetype": "text/x-python",
   "name": "python",
   "nbconvert_exporter": "python",
   "pygments_lexer": "ipython3",
   "version": "3.12.4"
  }
 },
 "nbformat": 4,
 "nbformat_minor": 5
}
