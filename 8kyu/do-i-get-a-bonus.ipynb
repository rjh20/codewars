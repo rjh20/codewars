{
 "cells": [
  {
   "cell_type": "markdown",
   "id": "401bc860-5913-4f9e-9552-3b444bfa4c13",
   "metadata": {},
   "source": [
    "It's bonus time in the big city! The fatcats are rubbing their paws in anticipation... but who is going to make the most money?\n",
    "\n",
    "Build a function that takes in two arguments (salary, bonus). Salary will be an integer, and bonus a boolean.\n",
    "\n",
    "If bonus is true, the salary should be multiplied by 10. If bonus is false, the fatcat did not make enough money and must receive only his stated salary.\n",
    "\n",
    "Return the total figure the individual will receive as a string prefixed with \"£\" (= \"\\u00A3\", JS, Go, Java, Scala, and Julia), \"$\" (C#, C++, Dart, Ruby, Clojure, Elixir, PHP, Python, Haskell, and Lua) or \"¥\" (Rust)."
   ]
  },
  {
   "cell_type": "markdown",
   "id": "21de480b-01a0-4fdf-9d82-27b126856fd9",
   "metadata": {},
   "source": [
    "#### My Solution:"
   ]
  },
  {
   "cell_type": "code",
   "execution_count": 3,
   "id": "15cce597-17a0-4316-b7fd-e9f5b2895975",
   "metadata": {},
   "outputs": [],
   "source": [
    "def bonus_time(salary, bonus):\n",
    "    if bonus == True:\n",
    "        return \"$\" + str(salary*10)\n",
    "    else:\n",
    "        return \"$\" + str(salary)"
   ]
  },
  {
   "cell_type": "markdown",
   "id": "c9779e64-d258-4f5b-a418-7c74fddb0436",
   "metadata": {},
   "source": [
    "#### Example Solutions:"
   ]
  },
  {
   "cell_type": "code",
   "execution_count": 6,
   "id": "bbc99237-3dc9-4440-85c0-f0f0cb6f1f56",
   "metadata": {},
   "outputs": [],
   "source": [
    "def bonus_time(salary, bonus):\n",
    "    return f\"${salary * 10 if bonus else salary}\""
   ]
  },
  {
   "cell_type": "code",
   "execution_count": 7,
   "id": "859e0637-43ec-43d1-8662-ebd18eaacfc1",
   "metadata": {},
   "outputs": [],
   "source": [
    "def bonus_time(salary, bonus):\n",
    "    return '$' + str(salary * [1,10][bonus])"
   ]
  }
 ],
 "metadata": {
  "kernelspec": {
   "display_name": "Python 3 (ipykernel)",
   "language": "python",
   "name": "python3"
  },
  "language_info": {
   "codemirror_mode": {
    "name": "ipython",
    "version": 3
   },
   "file_extension": ".py",
   "mimetype": "text/x-python",
   "name": "python",
   "nbconvert_exporter": "python",
   "pygments_lexer": "ipython3",
   "version": "3.12.4"
  }
 },
 "nbformat": 4,
 "nbformat_minor": 5
}
